{
 "cells": [
  {
   "cell_type": "code",
   "execution_count": 1,
   "metadata": {
    "collapsed": true
   },
   "outputs": [],
   "source": [
    "import tensorflow as tf\n",
    "import numpy as np\n",
    "import math\n",
    "import time as ti\n",
    "import matplotlib.pyplot as plt\n",
    "import os\n",
    "import helper\n",
    "%matplotlib inline\n"
   ]
  },
  {
   "cell_type": "code",
   "execution_count": 2,
   "metadata": {
    "collapsed": true
   },
   "outputs": [],
   "source": [
    "from urllib.request import urlretrieve\n",
    "from os.path import isfile, isdir\n"
   ]
  },
  {
   "cell_type": "code",
   "execution_count": 3,
   "metadata": {
    "collapsed": true
   },
   "outputs": [],
   "source": [
    "\n",
    "path_cifar = 'cifar-10-batches-py' #data donwloaded from  https://www.cs.toronto.edu/~kriz/cifar.html - CIFAR-10 python version\n",
    "batch_id = 5\n",
    "sample_id = 7"
   ]
  },
  {
   "cell_type": "code",
   "execution_count": 4,
   "metadata": {},
   "outputs": [
    {
     "name": "stdout",
     "output_type": "stream",
     "text": [
      "\n",
      "Stats of batch 5:\n",
      "Samples: 10000\n",
      "Label Counts: {0: 1014, 1: 1014, 2: 952, 3: 1016, 4: 997, 5: 1025, 6: 980, 7: 977, 8: 1003, 9: 1022}\n",
      "First 20 Labels: [1, 8, 5, 1, 5, 7, 4, 3, 8, 2, 7, 2, 0, 1, 5, 9, 6, 2, 0, 8]\n",
      "\n",
      "Example of Image 7:\n",
      "Image - Min Value: 20 Max Value: 255\n",
      "Image - Shape: (32, 32, 3)\n",
      "Label - Label Id: 3 Name: cat\n"
     ]
    },
    {
     "data": {
      "image/png": "[encoded data removed]",
      "text/plain": [
       "<matplotlib.figure.Figure at 0x7f3e2604be10>"
      ]
     },
     "metadata": {},
     "output_type": "display_data"
    }
   ],
   "source": [
    "helper.display_stats(path_cifar, batch_id, sample_id)"
   ]
  },
  {
   "cell_type": "code",
   "execution_count": 5,
   "metadata": {},
   "outputs": [
    {
     "name": "stdout",
     "output_type": "stream",
     "text": [
      "\n",
      "Stats of batch 3:\n",
      "Samples: 10000\n",
      "Label Counts: {0: 994, 1: 1042, 2: 965, 3: 997, 4: 990, 5: 1029, 6: 978, 7: 1015, 8: 961, 9: 1029}\n",
      "First 20 Labels: [8, 5, 0, 6, 9, 2, 8, 3, 6, 2, 7, 4, 6, 9, 0, 0, 7, 3, 7, 2]\n",
      "\n",
      "Example of Image 5:\n",
      "Image - Min Value: 9 Max Value: 255\n",
      "Image - Shape: (32, 32, 3)\n",
      "Label - Label Id: 2 Name: bird\n"
     ]
    },
    {
     "data": {
      "image/png": "[encoded data removed]",
      "text/plain": [
       "<matplotlib.figure.Figure at 0x7f3e22790278>"
      ]
     },
     "metadata": {},
     "output_type": "display_data"
    }
   ],
   "source": [
    "batch_id = 3\n",
    "sample_id = 5\n",
    "helper.display_stats(path_cifar, batch_id, sample_id)\n"
   ]
  },
  {
   "cell_type": "markdown",
   "metadata": {},
   "source": [
    "# Dataset Classes"
   ]
  },
  {
   "cell_type": "markdown",
   "metadata": {},
   "source": [
    "The dataset is divided in 5 batches from the CIFAR-10, consisting of 10 different classes listed below:\n",
    "\n",
    "* airplane\n",
    "* automobile\n",
    "* bird \n",
    "* cat\n",
    "* deer\n",
    "* dog\n",
    "* frog\n",
    "* horse\n",
    "* ship\n",
    "* truck\n",
    "\n"
   ]
  },
  {
   "cell_type": "code",
   "execution_count": 6,
   "metadata": {
    "collapsed": true
   },
   "outputs": [],
   "source": [
    "def one_hot_encode(labels):\n",
    "    one_hot = np.zeros((len(labels), 10))\n",
    "    for label, array in zip(labels, one_hot):\n",
    "        array[label] = 1\n",
    "    return one_hot\n",
    "    \n",
    "    "
   ]
  },
  {
   "cell_type": "code",
   "execution_count": 7,
   "metadata": {
    "collapsed": true
   },
   "outputs": [],
   "source": [
    "def normalize(x):\n",
    "    \n",
    "    array = np.array(x)\n",
    "    max_image = array.max()\n",
    "    min_image = array.min()\n",
    "    norm = (array - min_image)/(max_image - min_image)\n",
    "    return norm\n",
    "    "
   ]
  },
  {
   "cell_type": "code",
   "execution_count": 36,
   "metadata": {
    "collapsed": true
   },
   "outputs": [],
   "source": [
    "# Preprocess Training, Validation, and Testing Data\n",
    "helper.preprocess_and_save_data(path_cifar, normalize, one_hot_encode)"
   ]
  },
  {
   "cell_type": "code",
   "execution_count": 37,
   "metadata": {
    "collapsed": true
   },
   "outputs": [],
   "source": [
    "import pickle\n",
    "#import problem_unittests as tests\n",
    "import helper\n",
    "\n",
    "valid_features, valid_labels = pickle.load(open('preprocess_validation.p', mode='rb'))"
   ]
  },
  {
   "cell_type": "code",
   "execution_count": 38,
   "metadata": {
    "collapsed": true
   },
   "outputs": [],
   "source": [
    "def conv2d_pool(x, outputs, conv_str, conv_ksize, pool_ksi, pool_str):\n",
    "    _, _, _, deph = x.shape\n",
    "    weight = tf.Variable(tf.truncated_normal([conv_ksize[0], conv_ksize[1], deph.value, outputs], \n",
    "                                             stddev = 0.015, dtype=tf.float32))\n",
    "    bias = tf.Variable(tf.zeros([outputs]))\n",
    "    conv_strides = [1, conv_str[0], conv_str[1], 1]\n",
    "    conv_ksize = [1, conv_ksize[0], conv_ksize[1], 1]\n",
    "    pool_ksize = [1, pool_ksi[0], pool_ksi[1], 1]\n",
    "    pool_stride = [1, pool_str[0], pool_str[1], 1]\n",
    "    \n",
    "    conv2d = tf.nn.conv2d(x, weight, conv_strides, padding = 'SAME')\n",
    "    conv2d_b = tf.add(conv2d, bias)\n",
    "    conv2d_b_act = tf.nn.relu(conv2d_b)\n",
    "    conv_pool = tf.nn.max_pool(conv2d_b_act, pool_ksize, pool_stride, padding= 'SAME')\n",
    "    return conv_pool\n",
    "    \n",
    "    \n",
    "    "
   ]
  },
  {
   "cell_type": "code",
   "execution_count": 39,
   "metadata": {
    "collapsed": true
   },
   "outputs": [],
   "source": [
    "def flatten(x):\n",
    "    return tf.contrib.layers.flatten(x)\n",
    "    "
   ]
  },
  {
   "cell_type": "code",
   "execution_count": 40,
   "metadata": {
    "collapsed": true
   },
   "outputs": [],
   "source": [
    "def fully_connected(x_, outputs):\n",
    "    \n",
    "    #outputs is the number of outputs of the new tensor\n",
    "    #return a 2-D tensor where the second dimension is outputs\n",
    "    return tf.contrib.layers.fully_connected(inputs=x_, num_outputs=outputs, activation_fn=tf.nn.relu)\n",
    " "
   ]
  },
  {
   "cell_type": "code",
   "execution_count": 41,
   "metadata": {
    "collapsed": true
   },
   "outputs": [],
   "source": [
    "def final_out(x_, outputs):\n",
    "    return tf.contrib.layers.fully_connected(inputs=x_, num_outputs=outputs, activation_fn=None)"
   ]
  },
  {
   "cell_type": "markdown",
   "metadata": {},
   "source": [
    "# Train Neural Network\n",
    "\n",
    "\n",
    "## Optimization\n",
    "\n",
    "#### Simply, training neural net\n",
    "* x for images\n",
    "* y for labels\n",
    "* keep_prob for dropout"
   ]
  },
  {
   "cell_type": "code",
   "execution_count": 42,
   "metadata": {
    "collapsed": true
   },
   "outputs": [],
   "source": [
    "def train_net(sess, optimizer, keep_probability, xs_batch, ys_batch):\n",
    "    #training session\n",
    "    #batch x: images\n",
    "    #batch y: labels\n",
    "    \n",
    "    sess.run(optimizer, feed_dict={x:xs_batch, y: ys_batch, keep_prob:keep_probability})"
   ]
  },
  {
   "cell_type": "markdown",
   "metadata": {},
   "source": [
    "# Print Stats"
   ]
  },
  {
   "cell_type": "code",
   "execution_count": 43,
   "metadata": {
    "collapsed": true
   },
   "outputs": [],
   "source": [
    "def print_stats(sess, xs_batch, ys_batch, loss, accuracy):\n",
    "    \n",
    "    loss_ = sess.run(loss, feed_dict={x: xs_batch, y:ys_batch, keep_prob:1.0})\n",
    "    acc = sess.run(accuracy, feed_dict={x: xs_batch, y:ys_batch, keep_prob:1.0})\n",
    "    \n",
    "    print('Loss {} Accuracy {} %'.format(loss_, acc * 100))\n",
    "    "
   ]
  },
  {
   "cell_type": "markdown",
   "metadata": {},
   "source": [
    "# Creating a Convolutional Model"
   ]
  },
  {
   "cell_type": "code",
   "execution_count": 44,
   "metadata": {
    "collapsed": true
   },
   "outputs": [],
   "source": [
    "def create_conv_net(x, keep_prob):\n",
    "\n",
    "    #Creates a conv neural net\n",
    "    #: x: Placeholder with image data\n",
    "    #: keep_prob: Placeholder holds the keep probability after dropout\n",
    "    #: output is the logits\n",
    "\n",
    "    conv_stride = (1,1)\n",
    "    conv_ksize = (5, 5)\n",
    "    pool_stride = (2, 2)\n",
    "    pool_ksize = (2, 2)\n",
    "    \n",
    "    conv1_outputs = 32\n",
    "    conv2_outputs = 64\n",
    "    conv3_outputs = 128\n",
    "    full = 512\n",
    "    #conv_str, conv_ksize, pool_ksi, pool_str\n",
    "    conv1 = conv2d_pool(x, conv1_outputs, conv_stride, conv_ksize, pool_ksize, pool_stride)\n",
    "    conv2 = conv2d_pool(conv1, conv2_outputs, conv_stride, conv_ksize, pool_ksize, pool_stride)\n",
    "    conv3 = conv2d_pool(conv2, conv3_outputs, conv_stride, conv_ksize, pool_ksize, pool_stride)\n",
    "    \n",
    "    #flatten layer\n",
    "    conv3_flatten = flatten(conv3)\n",
    "    conv3_dropout = tf.nn.dropout(conv3_flatten, keep_prob)\n",
    "    \n",
    "    #fully connected layer\n",
    "    fully = fully_connected(conv3_dropout, full)\n",
    "    fully_drop = tf.nn.dropout(fully, keep_prob)\n",
    "    \n",
    "    #output\n",
    "    y_convolution = final_out(fully_drop, n_classes)\n",
    "    return y_convolution\n",
    "    \n",
    "    "
   ]
  },
  {
   "cell_type": "markdown",
   "metadata": {},
   "source": [
    "# Initialize our Neural Net"
   ]
  },
  {
   "cell_type": "code",
   "execution_count": 45,
   "metadata": {
    "collapsed": true
   },
   "outputs": [],
   "source": [
    "tf.reset_default_graph()\n",
    "n_classes = 10\n",
    "learning_rate = 2e-4\n",
    "epochs = 30\n",
    "batch_size = 256\n",
    "keep_probability = 0.5\n",
    "\n",
    "# Placeholders for inputs and outoputs\n",
    "\n",
    "x = tf.placeholder(dtype=tf.float32, shape=[None, 32, 32, 3], name='inputs')\n",
    "y = tf.placeholder(dtype=tf.float32, shape=[None, n_classes], name='outputs')\n",
    "keep_prob = tf.placeholder(dtype=tf.float32, name='keep_prob')\n",
    "\n",
    "#creating our model\n",
    "logits = create_conv_net(x, keep_prob)\n",
    "\n",
    "#naming variable\n",
    "logits = tf.identity(logits, name='logits')\n",
    "\n",
    "# loss and optimizer\n",
    "loss = tf.reduce_mean(tf.nn.softmax_cross_entropy_with_logits(logits=logits, labels=y))\n",
    "optimizer = tf.train.AdamOptimizer(learning_rate).minimize(loss)\n",
    "\n",
    "# accuracy\n",
    "prediction = tf.equal(tf.argmax(logits, 1), tf.argmax(y, 1))\n",
    "accuracy = tf.reduce_mean(tf.cast(prediction, tf.float32), name='accuracy')\n",
    "\n",
    "\n"
   ]
  },
  {
   "cell_type": "code",
   "execution_count": 46,
   "metadata": {
    "collapsed": true
   },
   "outputs": [],
   "source": [
    "save_model_path = './image_classification'\n"
   ]
  },
  {
   "cell_type": "code",
   "execution_count": 51,
   "metadata": {},
   "outputs": [
    {
     "name": "stdout",
     "output_type": "stream",
     "text": [
      "Initialize training\n",
      "Epoch 1, CIFAR-10 Batch 1:\n",
      "Loss 2.216984272003174 Accuracy 15.000000596046448 %\n",
      "Epoch 1, CIFAR-10 Batch 2:\n",
      "Loss 2.10894775390625 Accuracy 32.50000178813934 %\n",
      "Epoch 1, CIFAR-10 Batch 3:\n",
      "Loss 1.8059405088424683 Accuracy 34.99999940395355 %\n",
      "Epoch 1, CIFAR-10 Batch 4:\n",
      "Loss 1.8079770803451538 Accuracy 25.0 %\n",
      "Epoch 1, CIFAR-10 Batch 5:\n",
      "Loss 1.861507534980774 Accuracy 27.500000596046448 %\n",
      "Epoch 2, CIFAR-10 Batch 1:\n",
      "Loss 1.933701992034912 Accuracy 37.5 %\n",
      "Epoch 2, CIFAR-10 Batch 2:\n",
      "Loss 1.9096662998199463 Accuracy 39.99999761581421 %\n",
      "Epoch 2, CIFAR-10 Batch 3:\n",
      "Loss 1.4683904647827148 Accuracy 44.999998807907104 %\n",
      "Epoch 2, CIFAR-10 Batch 4:\n",
      "Loss 1.588769555091858 Accuracy 40.00000357627869 %\n",
      "Epoch 2, CIFAR-10 Batch 5:\n",
      "Loss 1.6288187503814697 Accuracy 42.500001192092896 %\n",
      "Epoch 3, CIFAR-10 Batch 1:\n",
      "Loss 1.7551279067993164 Accuracy 44.999998807907104 %\n",
      "Epoch 3, CIFAR-10 Batch 2:\n",
      "Loss 1.8027806282043457 Accuracy 39.99999761581421 %\n",
      "Epoch 3, CIFAR-10 Batch 3:\n",
      "Loss 1.2793433666229248 Accuracy 57.499998807907104 %\n",
      "Epoch 3, CIFAR-10 Batch 4:\n",
      "Loss 1.4526993036270142 Accuracy 40.00000357627869 %\n",
      "Epoch 3, CIFAR-10 Batch 5:\n",
      "Loss 1.503373146057129 Accuracy 50.0 %\n",
      "Epoch 4, CIFAR-10 Batch 1:\n",
      "Loss 1.6155081987380981 Accuracy 42.500001192092896 %\n",
      "Epoch 4, CIFAR-10 Batch 2:\n",
      "Loss 1.6173194646835327 Accuracy 45.00000178813934 %\n",
      "Epoch 4, CIFAR-10 Batch 3:\n",
      "Loss 1.1712613105773926 Accuracy 57.499998807907104 %\n",
      "Epoch 4, CIFAR-10 Batch 4:\n",
      "Loss 1.4160641431808472 Accuracy 52.50000357627869 %\n",
      "Epoch 4, CIFAR-10 Batch 5:\n",
      "Loss 1.4314749240875244 Accuracy 55.000001192092896 %\n",
      "Epoch 5, CIFAR-10 Batch 1:\n",
      "Loss 1.498611569404602 Accuracy 47.49999940395355 %\n",
      "Epoch 5, CIFAR-10 Batch 2:\n",
      "Loss 1.5146448612213135 Accuracy 47.50000238418579 %\n",
      "Epoch 5, CIFAR-10 Batch 3:\n",
      "Loss 1.1109439134597778 Accuracy 62.5 %\n",
      "Epoch 5, CIFAR-10 Batch 4:\n",
      "Loss 1.2575693130493164 Accuracy 64.99999761581421 %\n",
      "Epoch 5, CIFAR-10 Batch 5:\n",
      "Loss 1.3428536653518677 Accuracy 50.0 %\n",
      "Epoch 6, CIFAR-10 Batch 1:\n",
      "Loss 1.3815072774887085 Accuracy 55.000001192092896 %\n",
      "Epoch 6, CIFAR-10 Batch 2:\n",
      "Loss 1.3760652542114258 Accuracy 50.0 %\n",
      "Epoch 6, CIFAR-10 Batch 3:\n",
      "Loss 1.0126209259033203 Accuracy 67.49999523162842 %\n",
      "Epoch 6, CIFAR-10 Batch 4:\n",
      "Loss 1.136228084564209 Accuracy 62.5 %\n",
      "Epoch 6, CIFAR-10 Batch 5:\n",
      "Loss 1.2809715270996094 Accuracy 55.000001192092896 %\n",
      "Epoch 7, CIFAR-10 Batch 1:\n",
      "Loss 1.273881435394287 Accuracy 60.00000238418579 %\n",
      "Epoch 7, CIFAR-10 Batch 2:\n",
      "Loss 1.2455213069915771 Accuracy 50.0 %\n",
      "Epoch 7, CIFAR-10 Batch 3:\n",
      "Loss 0.9132312536239624 Accuracy 72.50000238418579 %\n",
      "Epoch 7, CIFAR-10 Batch 4:\n",
      "Loss 1.0739418268203735 Accuracy 57.499998807907104 %\n",
      "Epoch 7, CIFAR-10 Batch 5:\n",
      "Loss 1.2176092863082886 Accuracy 57.50000476837158 %\n",
      "Epoch 8, CIFAR-10 Batch 1:\n",
      "Loss 1.212756872177124 Accuracy 64.99999761581421 %\n",
      "Epoch 8, CIFAR-10 Batch 2:\n",
      "Loss 1.1289677619934082 Accuracy 55.000001192092896 %\n",
      "Epoch 8, CIFAR-10 Batch 3:\n",
      "Loss 0.8414559364318848 Accuracy 72.50000238418579 %\n",
      "Epoch 8, CIFAR-10 Batch 4:\n",
      "Loss 0.9883661866188049 Accuracy 64.99999761581421 %\n",
      "Epoch 8, CIFAR-10 Batch 5:\n",
      "Loss 1.1720011234283447 Accuracy 55.000001192092896 %\n",
      "Epoch 9, CIFAR-10 Batch 1:\n",
      "Loss 1.1666053533554077 Accuracy 62.5 %\n",
      "Epoch 9, CIFAR-10 Batch 2:\n",
      "Loss 1.0447676181793213 Accuracy 64.99999761581421 %\n",
      "Epoch 9, CIFAR-10 Batch 3:\n",
      "Loss 0.7780095338821411 Accuracy 80.0000011920929 %\n",
      "Epoch 9, CIFAR-10 Batch 4:\n",
      "Loss 0.9319091439247131 Accuracy 60.00000238418579 %\n",
      "Epoch 9, CIFAR-10 Batch 5:\n",
      "Loss 1.1065654754638672 Accuracy 60.00000238418579 %\n",
      "Epoch 10, CIFAR-10 Batch 1:\n",
      "Loss 1.0838243961334229 Accuracy 64.99999761581421 %\n",
      "Epoch 10, CIFAR-10 Batch 2:\n",
      "Loss 0.9479392170906067 Accuracy 64.99999761581421 %\n",
      "Epoch 10, CIFAR-10 Batch 3:\n",
      "Loss 0.7213419079780579 Accuracy 80.0000011920929 %\n",
      "Epoch 10, CIFAR-10 Batch 4:\n",
      "Loss 0.8719271421432495 Accuracy 67.49999523162842 %\n",
      "Epoch 10, CIFAR-10 Batch 5:\n",
      "Loss 1.0068193674087524 Accuracy 60.00000238418579 %\n",
      "Epoch 11, CIFAR-10 Batch 1:\n",
      "Loss 1.009447455406189 Accuracy 64.99999761581421 %\n",
      "Epoch 11, CIFAR-10 Batch 2:\n",
      "Loss 0.8701658844947815 Accuracy 64.99999761581421 %\n",
      "Epoch 11, CIFAR-10 Batch 3:\n",
      "Loss 0.7000948786735535 Accuracy 77.50000357627869 %\n",
      "Epoch 11, CIFAR-10 Batch 4:\n",
      "Loss 0.8285501599311829 Accuracy 67.5000011920929 %\n",
      "Epoch 11, CIFAR-10 Batch 5:\n",
      "Loss 0.9425951242446899 Accuracy 67.50000715255737 %\n",
      "Epoch 12, CIFAR-10 Batch 1:\n",
      "Loss 0.9784651398658752 Accuracy 70.00000476837158 %\n",
      "Epoch 12, CIFAR-10 Batch 2:\n",
      "Loss 0.7998948693275452 Accuracy 67.5000011920929 %\n",
      "Epoch 12, CIFAR-10 Batch 3:\n",
      "Loss 0.6260983943939209 Accuracy 82.4999988079071 %\n",
      "Epoch 12, CIFAR-10 Batch 4:\n",
      "Loss 0.7705578804016113 Accuracy 75.0 %\n",
      "Epoch 12, CIFAR-10 Batch 5:\n",
      "Loss 0.8724715113639832 Accuracy 65.00000357627869 %\n",
      "Epoch 13, CIFAR-10 Batch 1:\n",
      "Loss 0.8614681959152222 Accuracy 72.50000238418579 %\n",
      "Epoch 13, CIFAR-10 Batch 2:\n",
      "Loss 0.7669003009796143 Accuracy 69.9999988079071 %\n",
      "Epoch 13, CIFAR-10 Batch 3:\n",
      "Loss 0.5704584121704102 Accuracy 82.4999988079071 %\n",
      "Epoch 13, CIFAR-10 Batch 4:\n",
      "Loss 0.7382308840751648 Accuracy 79.99999523162842 %\n",
      "Epoch 13, CIFAR-10 Batch 5:\n",
      "Loss 0.7831628918647766 Accuracy 72.50000238418579 %\n",
      "Epoch 14, CIFAR-10 Batch 1:\n",
      "Loss 0.8135246634483337 Accuracy 72.50000238418579 %\n",
      "Epoch 14, CIFAR-10 Batch 2:\n",
      "Loss 0.6856996417045593 Accuracy 72.50000238418579 %\n",
      "Epoch 14, CIFAR-10 Batch 3:\n",
      "Loss 0.554105818271637 Accuracy 82.4999988079071 %\n",
      "Epoch 14, CIFAR-10 Batch 4:\n",
      "Loss 0.6812003254890442 Accuracy 77.49999761581421 %\n",
      "Epoch 14, CIFAR-10 Batch 5:\n",
      "Loss 0.7535479664802551 Accuracy 72.50000238418579 %\n",
      "Epoch 15, CIFAR-10 Batch 1:\n",
      "Loss 0.7340055704116821 Accuracy 72.50000238418579 %\n",
      "Epoch 15, CIFAR-10 Batch 2:\n",
      "Loss 0.6422633528709412 Accuracy 72.50000238418579 %\n",
      "Epoch 15, CIFAR-10 Batch 3:\n",
      "Loss 0.5194315910339355 Accuracy 84.99999642372131 %\n",
      "Epoch 15, CIFAR-10 Batch 4:\n",
      "Loss 0.6506226062774658 Accuracy 82.50000476837158 %\n",
      "Epoch 15, CIFAR-10 Batch 5:\n",
      "Loss 0.7315526604652405 Accuracy 72.50000238418579 %\n",
      "Epoch 16, CIFAR-10 Batch 1:\n",
      "Loss 0.7103644609451294 Accuracy 72.50000238418579 %\n",
      "Epoch 16, CIFAR-10 Batch 2:\n",
      "Loss 0.5946492552757263 Accuracy 77.50000357627869 %\n",
      "Epoch 16, CIFAR-10 Batch 3:\n",
      "Loss 0.4630657434463501 Accuracy 85.00000834465027 %\n",
      "Epoch 16, CIFAR-10 Batch 4:\n",
      "Loss 0.6157876253128052 Accuracy 79.99999523162842 %\n",
      "Epoch 16, CIFAR-10 Batch 5:\n",
      "Loss 0.614874005317688 Accuracy 85.00000238418579 %\n",
      "Epoch 17, CIFAR-10 Batch 1:\n",
      "Loss 0.6538028717041016 Accuracy 75.0 %\n",
      "Epoch 17, CIFAR-10 Batch 2:\n",
      "Loss 0.5558086633682251 Accuracy 77.50000357627869 %\n",
      "Epoch 17, CIFAR-10 Batch 3:\n",
      "Loss 0.4464210867881775 Accuracy 90.00000357627869 %\n",
      "Epoch 17, CIFAR-10 Batch 4:\n",
      "Loss 0.5656468868255615 Accuracy 82.50000476837158 %\n",
      "Epoch 17, CIFAR-10 Batch 5:\n",
      "Loss 0.56919264793396 Accuracy 82.50000476837158 %\n",
      "Epoch 18, CIFAR-10 Batch 1:\n",
      "Loss 0.5859711766242981 Accuracy 77.49999761581421 %\n",
      "Epoch 18, CIFAR-10 Batch 2:\n",
      "Loss 0.49594563245773315 Accuracy 80.0000011920929 %\n",
      "Epoch 18, CIFAR-10 Batch 3:\n",
      "Loss 0.4248530864715576 Accuracy 92.5000011920929 %\n",
      "Epoch 18, CIFAR-10 Batch 4:\n",
      "Loss 0.5246231555938721 Accuracy 85.00000238418579 %\n",
      "Epoch 18, CIFAR-10 Batch 5:\n",
      "Loss 0.5162734985351562 Accuracy 92.49999523162842 %\n",
      "Epoch 19, CIFAR-10 Batch 1:\n",
      "Loss 0.5831084847450256 Accuracy 80.00000715255737 %\n",
      "Epoch 19, CIFAR-10 Batch 2:\n",
      "Loss 0.47867298126220703 Accuracy 82.50000476837158 %\n",
      "Epoch 19, CIFAR-10 Batch 3:\n",
      "Loss 0.3842812180519104 Accuracy 90.00000357627869 %\n",
      "Epoch 19, CIFAR-10 Batch 4:\n",
      "Loss 0.5191777348518372 Accuracy 87.50000596046448 %\n",
      "Epoch 19, CIFAR-10 Batch 5:\n",
      "Loss 0.48891595005989075 Accuracy 92.5000011920929 %\n",
      "Epoch 20, CIFAR-10 Batch 1:\n",
      "Loss 0.5383690595626831 Accuracy 80.00000715255737 %\n",
      "Epoch 20, CIFAR-10 Batch 2:\n",
      "Loss 0.4501352608203888 Accuracy 90.00000357627869 %\n",
      "Epoch 20, CIFAR-10 Batch 3:\n",
      "Loss 0.351485013961792 Accuracy 97.49999642372131 %\n",
      "Epoch 20, CIFAR-10 Batch 4:\n",
      "Loss 0.4733503460884094 Accuracy 87.50000596046448 %\n",
      "Epoch 20, CIFAR-10 Batch 5:\n",
      "Loss 0.4304924011230469 Accuracy 94.9999988079071 %\n",
      "Epoch 21, CIFAR-10 Batch 1:\n",
      "Loss 0.5112600922584534 Accuracy 80.00000715255737 %\n",
      "Epoch 21, CIFAR-10 Batch 2:\n",
      "Loss 0.4124380648136139 Accuracy 94.9999988079071 %\n",
      "Epoch 21, CIFAR-10 Batch 3:\n",
      "Loss 0.3412434160709381 Accuracy 94.9999988079071 %\n",
      "Epoch 21, CIFAR-10 Batch 4:\n",
      "Loss 0.44326573610305786 Accuracy 90.00000357627869 %\n"
     ]
    },
    {
     "name": "stdout",
     "output_type": "stream",
     "text": [
      "Epoch 21, CIFAR-10 Batch 5:\n",
      "Loss 0.3795355558395386 Accuracy 94.9999988079071 %\n",
      "Epoch 22, CIFAR-10 Batch 1:\n",
      "Loss 0.49625641107559204 Accuracy 82.50000476837158 %\n",
      "Epoch 22, CIFAR-10 Batch 2:\n",
      "Loss 0.3796396851539612 Accuracy 92.5000011920929 %\n",
      "Epoch 22, CIFAR-10 Batch 3:\n",
      "Loss 0.3418569564819336 Accuracy 94.9999988079071 %\n",
      "Epoch 22, CIFAR-10 Batch 4:\n",
      "Loss 0.42240291833877563 Accuracy 90.00000357627869 %\n",
      "Epoch 22, CIFAR-10 Batch 5:\n",
      "Loss 0.35687360167503357 Accuracy 94.9999988079071 %\n",
      "Epoch 23, CIFAR-10 Batch 1:\n",
      "Loss 0.4432607591152191 Accuracy 85.00000238418579 %\n",
      "Epoch 23, CIFAR-10 Batch 2:\n",
      "Loss 0.38381144404411316 Accuracy 94.9999988079071 %\n",
      "Epoch 23, CIFAR-10 Batch 3:\n",
      "Loss 0.31639131903648376 Accuracy 94.9999988079071 %\n",
      "Epoch 23, CIFAR-10 Batch 4:\n",
      "Loss 0.41513851284980774 Accuracy 94.9999988079071 %\n",
      "Epoch 23, CIFAR-10 Batch 5:\n",
      "Loss 0.3241739273071289 Accuracy 94.9999988079071 %\n",
      "Epoch 24, CIFAR-10 Batch 1:\n",
      "Loss 0.38807421922683716 Accuracy 87.50000596046448 %\n",
      "Epoch 24, CIFAR-10 Batch 2:\n",
      "Loss 0.35299015045166016 Accuracy 94.9999988079071 %\n",
      "Epoch 24, CIFAR-10 Batch 3:\n",
      "Loss 0.2980230748653412 Accuracy 94.9999988079071 %\n",
      "Epoch 24, CIFAR-10 Batch 4:\n",
      "Loss 0.37935787439346313 Accuracy 90.00000357627869 %\n",
      "Epoch 24, CIFAR-10 Batch 5:\n",
      "Loss 0.29470306634902954 Accuracy 97.50000238418579 %\n",
      "Epoch 25, CIFAR-10 Batch 1:\n",
      "Loss 0.3853554129600525 Accuracy 89.99999761581421 %\n",
      "Epoch 25, CIFAR-10 Batch 2:\n",
      "Loss 0.2973034083843231 Accuracy 100.0 %\n",
      "Epoch 25, CIFAR-10 Batch 3:\n",
      "Loss 0.2622465193271637 Accuracy 97.49999642372131 %\n",
      "Epoch 25, CIFAR-10 Batch 4:\n",
      "Loss 0.3541123867034912 Accuracy 90.00000357627869 %\n",
      "Epoch 25, CIFAR-10 Batch 5:\n",
      "Loss 0.26114514470100403 Accuracy 100.0 %\n",
      "Epoch 26, CIFAR-10 Batch 1:\n",
      "Loss 0.3734138011932373 Accuracy 92.5000011920929 %\n",
      "Epoch 26, CIFAR-10 Batch 2:\n",
      "Loss 0.2899150252342224 Accuracy 100.0 %\n",
      "Epoch 26, CIFAR-10 Batch 3:\n",
      "Loss 0.25452977418899536 Accuracy 97.49999642372131 %\n",
      "Epoch 26, CIFAR-10 Batch 4:\n",
      "Loss 0.3325977027416229 Accuracy 94.9999988079071 %\n",
      "Epoch 26, CIFAR-10 Batch 5:\n",
      "Loss 0.26363223791122437 Accuracy 97.49999642372131 %\n",
      "Epoch 27, CIFAR-10 Batch 1:\n",
      "Loss 0.31639033555984497 Accuracy 97.49999642372131 %\n",
      "Epoch 27, CIFAR-10 Batch 2:\n",
      "Loss 0.2822645902633667 Accuracy 100.0 %\n",
      "Epoch 27, CIFAR-10 Batch 3:\n",
      "Loss 0.2549152970314026 Accuracy 97.49999642372131 %\n",
      "Epoch 27, CIFAR-10 Batch 4:\n",
      "Loss 0.32503876090049744 Accuracy 92.5000011920929 %\n",
      "Epoch 27, CIFAR-10 Batch 5:\n",
      "Loss 0.23496082425117493 Accuracy 97.49999642372131 %\n",
      "Epoch 28, CIFAR-10 Batch 1:\n",
      "Loss 0.2990402579307556 Accuracy 100.0 %\n",
      "Epoch 28, CIFAR-10 Batch 2:\n",
      "Loss 0.27798861265182495 Accuracy 97.49999642372131 %\n",
      "Epoch 28, CIFAR-10 Batch 3:\n",
      "Loss 0.24285224080085754 Accuracy 97.49999642372131 %\n",
      "Epoch 28, CIFAR-10 Batch 4:\n",
      "Loss 0.30376937985420227 Accuracy 94.9999988079071 %\n",
      "Epoch 28, CIFAR-10 Batch 5:\n",
      "Loss 0.23153428733348846 Accuracy 97.49999642372131 %\n",
      "Epoch 29, CIFAR-10 Batch 1:\n",
      "Loss 0.2662338316440582 Accuracy 100.0 %\n",
      "Epoch 29, CIFAR-10 Batch 2:\n",
      "Loss 0.22236648201942444 Accuracy 100.0 %\n",
      "Epoch 29, CIFAR-10 Batch 3:\n",
      "Loss 0.1999770849943161 Accuracy 100.0 %\n",
      "Epoch 29, CIFAR-10 Batch 4:\n",
      "Loss 0.27189651131629944 Accuracy 97.50000238418579 %\n",
      "Epoch 29, CIFAR-10 Batch 5:\n",
      "Loss 0.2056463360786438 Accuracy 100.0 %\n",
      "Epoch 30, CIFAR-10 Batch 1:\n",
      "Loss 0.2757694125175476 Accuracy 97.49999642372131 %\n",
      "Epoch 30, CIFAR-10 Batch 2:\n",
      "Loss 0.22387759387493134 Accuracy 100.0 %\n",
      "Epoch 30, CIFAR-10 Batch 3:\n",
      "Loss 0.18668979406356812 Accuracy 100.0 %\n",
      "Epoch 30, CIFAR-10 Batch 4:\n",
      "Loss 0.2685691714286804 Accuracy 92.5000011920929 %\n",
      "Epoch 30, CIFAR-10 Batch 5:\n",
      "Loss 0.19591844081878662 Accuracy 97.49999642372131 %\n"
     ]
    }
   ],
   "source": [
    "print(\"Initialize training\")\n",
    "import time as tp\n",
    "start = tp.time()\n",
    "try:\n",
    "    with tf.Session() as sess:\n",
    "        init = tf.global_variables_initializer()\n",
    "        sess.run(init)\n",
    "        for epoch in range(epochs):\n",
    "            n_batches = 5\n",
    "            for batch in range(1, n_batches + 1):\n",
    "                for xs_batch, ys_batch in helper.load_preprocess_training_batch(batch, batch_size):\n",
    "                    train_net(sess, optimizer, keep_probability, xs_batch, ys_batch)\n",
    "                print('Epoch {}, CIFAR-10 Batch {}:'.format(epoch + 1, batch))\n",
    "                print_stats(sess, xs_batch, ys_batch, loss, accuracy)\n",
    "        # Save Model\n",
    "        saver = tf.train.Saver()\n",
    "        save_path = saver.save(sess, save_model_path)            \n",
    "except KeyboardInterrupt:\n",
    "    print ('Training Interrupted {} minutes'.format((tp.time() - start)//60))\n",
    "\n"
   ]
  },
  {
   "cell_type": "markdown",
   "metadata": {
    "collapsed": true
   },
   "source": [
    "# Test Model"
   ]
  },
  {
   "cell_type": "code",
   "execution_count": 56,
   "metadata": {},
   "outputs": [
    {
     "name": "stdout",
     "output_type": "stream",
     "text": [
      "INFO:tensorflow:Restoring parameters from ./image_classification\n",
      "Testing Accuracy: 0.739131435751915\n",
      "\n"
     ]
    }
   ],
   "source": [
    "try:\n",
    "    if batch_size:\n",
    "        pass\n",
    "except NameError:\n",
    "    batch_size = 64\n",
    "\n",
    "save_model_path = './image_classification'\n",
    "\n",
    "n_samples = 4\n",
    "top_n_predictions = 3\n",
    "\n",
    "def test_model():\n",
    "    \"\"\"\n",
    "    Test the saved model against the test dataset\n",
    "    \"\"\"\n",
    "\n",
    "    test_features, test_labels = pickle.load(open('preprocess_validation.p', mode='rb'))\n",
    "    loaded_graph = tf.Graph()\n",
    "\n",
    "    with tf.Session(graph=loaded_graph) as sess:\n",
    "        # Load model\n",
    "        loader = tf.train.import_meta_graph(save_model_path + '.meta')\n",
    "        loader.restore(sess, save_model_path)\n",
    "\n",
    "        # Get Tensors from loaded model\n",
    "        loaded_x = loaded_graph.get_tensor_by_name('inputs:0')\n",
    "        loaded_y = loaded_graph.get_tensor_by_name('outputs:0')\n",
    "        loaded_keep_prob = loaded_graph.get_tensor_by_name('keep_prob:0')\n",
    "        loaded_logits = loaded_graph.get_tensor_by_name('logits:0')\n",
    "        loaded_acc = loaded_graph.get_tensor_by_name('accuracy:0')\n",
    "        \n",
    "        # Get accuracy in batches for memory limitations\n",
    "        test_batch_acc_total = 0\n",
    "        test_batch_count = 0\n",
    "        \n",
    "        for test_feature_batch, test_label_batch in helper.batch_features_labels(test_features, test_labels, batch_size):\n",
    "            test_batch_acc_total += sess.run(\n",
    "                loaded_acc,\n",
    "                feed_dict={loaded_x: test_feature_batch, loaded_y: test_label_batch, loaded_keep_prob: 1.0})\n",
    "            test_batch_count += 1\n",
    "\n",
    "        print('Testing Accuracy: {}\\n'.format(test_batch_acc_total/test_batch_count))\n",
    "\n",
    "        # Print Random Samples\n",
    "        #random_test_features, random_test_labels = tuple(zip(*random.sample(list(zip(test_features, test_labels)), n_samples)))\n",
    "        #random_test_predictions = sess.run(\n",
    "            #tf.nn.top_k(tf.nn.softmax(loaded_logits), top_n_predictions),\n",
    "            #feed_dict={loaded_x: random_test_features, loaded_y: random_test_labels, loaded_keep_prob: 1.0})\n",
    "        #helper.display_image_predictions(random_test_features, random_test_labels, random_test_predictions)\n",
    "\n",
    "\n",
    "test_model()"
   ]
  },
  {
   "cell_type": "code",
   "execution_count": null,
   "metadata": {
    "collapsed": true
   },
   "outputs": [],
   "source": []
  }
 ],
 "metadata": {
  "kernelspec": {
   "display_name": "Python 3",
   "language": "python",
   "name": "python3"
  },
  "language_info": {
   "codemirror_mode": {
    "name": "ipython",
    "version": 3
   },
   "file_extension": ".py",
   "mimetype": "text/x-python",
   "name": "python",
   "nbconvert_exporter": "python",
   "pygments_lexer": "ipython3",
   "version": "3.6.1"
  }
 },
 "nbformat": 4,
 "nbformat_minor": 2
}
